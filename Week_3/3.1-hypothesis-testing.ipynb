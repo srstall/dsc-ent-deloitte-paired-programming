{
 "cells": [
  {
   "cell_type": "markdown",
   "metadata": {
    "id": "aZtSqIOJdoB5"
   },
   "source": [
    "# Hypothesis Test - Lab"
   ]
  },
  {
   "cell_type": "markdown",
   "metadata": {
    "id": "VYcXqBhLdoB8"
   },
   "source": [
    "## Introduction\n",
    "\n",
    "In this lab, you'll have the opportunity to decide to pick the variables that you want to perform one and two sample t-tests."
   ]
  },
  {
   "cell_type": "markdown",
   "metadata": {
    "id": "bemRQ-KhdoB9"
   },
   "source": [
    "## Objectives\n",
    "\n",
    "You will be able to:\n",
    "\n",
    "* Construct and interpret a confidence interval for a single mean\n",
    "* Perform a hypothesis test for a single mean\n",
    "* Construct and interpret a confidence interval for two independent means\n",
    "* Perform a hypothesis test for two independent means\n"
   ]
  },
  {
   "cell_type": "markdown",
   "metadata": {
    "id": "yveycAz2doB9"
   },
   "source": [
    "## The Data: Last Words of Death Row Inmates\n",
    "\n",
    "On Kaggle there is a famous data set of *[Last Words of Death Row Inmates](https://www.kaggle.com/datasets/mykhe1097/last-words-of-death-row-inmates)*. While this data set is often used for natural language processing, we'll use the non-text data for statistical inference on one and two means using the t-distribution."
   ]
  },
  {
   "cell_type": "markdown",
   "metadata": {
    "id": "AFwoq4PulATc"
   },
   "source": [
    "### Data Dictionary\n",
    "\n",
    "The dataset consists of 545 observations with 21 variables. They are:\n",
    "\n",
    "* `Execution`: The order of execution, numeric.\n",
    "* `LastName`: Last name of the offender, character.\n",
    "* `FirstName`: First name of the offender, character.\n",
    "* `TDCJNumber`: TDCJ Number of the offender, numeric.\n",
    "* `Age`: Age of the offender, numeric.\n",
    "* `Race`: Race of the offender, categorical : Black, Hispanic, White, Other.\n",
    "* `CountyOfConviction`: County of conviction, character.\n",
    "* `AgeWhenReceived`: Age of offender when received, numeric.\n",
    "* `EducationLevel`: Education level of offender, numeric.\n",
    "* `NativeCounty`: Native county of offender, categorical : 0 = Within Texas, 1= Outside Texas.\n",
    "* `PreviousCrime`: Whether the offender committed any crime before, categorical: 0= No, 1= Yes.\n",
    "* `Codefendants`: Number of co-defendants, numeric.\n",
    "* `NumberVictim`: Number of victims, numeric.\n",
    "* `WhiteVictim`, `HispanicVictim`, `BlackVictim`, `VictimOtherRace` `FemaleVictim`, `MaleVictim`: Number of victims with specified demographic features, numeric.\n",
    "* `LastStatement`: Last statement of offender, character.\n",
    "\n",
    "The [data file](https://github.com/learn-co-curriculum/dsc-hypothesis-testing-ent/blob/main/data/texas.csv) that we'll be using has the first 20 variables, i.e. we're excluding the `LastStatement` variable.\n",
    "\n",
    "*N.B.*: Note this data is from 1982 - 2017 and for that time period the data is exhaustive."
   ]
  },
  {
   "cell_type": "markdown",
   "metadata": {
    "id": "Ob72RcZhdoB-"
   },
   "source": [
    "## Preliminary Steps\n",
    "\n",
    "As usual, begin with importing the Python libraries that you will need. Then bring in the data and explore it.\n",
    "\n",
    "You'll likely want to use `scipy.stats`. If you want to use `confidence_interval(confidence_level=0.95)` with [`scipy.stats.ttest_ind`](https://docs.scipy.org/doc/scipy/reference/generated/scipy.stats.ttest_ind.html), then you need to have `scipy` version 1.11.0."
   ]
  },
  {
   "cell_type": "code",
   "execution_count": 5,
   "metadata": {
    "id": "sWHwHWlj8wOg"
   },
   "outputs": [
    {
     "name": "stdout",
     "output_type": "stream",
     "text": [
      "Requirement already satisfied: scipy in c:\\users\\sstallman\\appdata\\local\\anaconda3\\envs\\learn-env\\lib\\site-packages (1.10.1)\n",
      "Requirement already satisfied: numpy<1.27.0,>=1.19.5 in c:\\users\\sstallman\\appdata\\local\\anaconda3\\envs\\learn-env\\lib\\site-packages (from scipy) (1.24.4)\n"
     ]
    }
   ],
   "source": [
    "\n",
    "# Only do this if necessary\n",
    "! pip install scipy"
   ]
  },
  {
   "cell_type": "code",
   "execution_count": 1,
   "metadata": {
    "id": "pmDB4q8y3VsE"
   },
   "outputs": [
    {
     "data": {
      "text/plain": [
       "'1.10.1'"
      ]
     },
     "execution_count": 1,
     "metadata": {},
     "output_type": "execute_result"
    }
   ],
   "source": [
    "\n",
    "__requires__= 'scipy==11.1.0'\n",
    "\n",
    "# Bring in germane libraries\n",
    "import pandas as pd\n",
    "import matplotlib.pyplot as plt\n",
    "import scipy\n",
    "import scipy.stats as stats\n",
    "\n",
    "scipy.__version__"
   ]
  },
  {
   "cell_type": "code",
   "execution_count": 2,
   "metadata": {},
   "outputs": [
    {
     "name": "stdout",
     "output_type": "stream",
     "text": [
      "Requirement already up-to-date: numpy in c:\\users\\sstallman\\appdata\\local\\anaconda3\\envs\\learn-env\\lib\\site-packages (1.24.4)\n"
     ]
    }
   ],
   "source": [
    "! pip install --upgrade numpy"
   ]
  },
  {
   "cell_type": "code",
   "execution_count": 2,
   "metadata": {
    "id": "R2cLU3rcdoB9"
   },
   "outputs": [],
   "source": [
    "# Read data into dataframe\n",
    "df = pd.read_csv('data/texas.csv', index_col=0)"
   ]
  },
  {
   "cell_type": "markdown",
   "metadata": {
    "id": "I63AnyI7j1wJ"
   },
   "source": [
    "Now that you have brought in the data. Consider these or similar commands to get a feel for the data.\n",
    "* `.info()`\n",
    "* `.head()`\n",
    "\n"
   ]
  },
  {
   "cell_type": "code",
   "execution_count": 3,
   "metadata": {
    "colab": {
     "base_uri": "https://localhost:8080/"
    },
    "id": "vkvQRA3BkHlP",
    "outputId": "4ae884a7-ca7a-47f8-eaca-c34a7f610015"
   },
   "outputs": [
    {
     "name": "stdout",
     "output_type": "stream",
     "text": [
      "<class 'pandas.core.frame.DataFrame'>\n",
      "Index: 383 entries, Cardenas to Brooks, Jr.\n",
      "Data columns (total 17 columns):\n",
      " #   Column              Non-Null Count  Dtype \n",
      "---  ------              --------------  ----- \n",
      " 0   FirstName           383 non-null    object\n",
      " 1   TDCJNumber          383 non-null    int64 \n",
      " 2   Age                 383 non-null    int64 \n",
      " 3   Race                383 non-null    object\n",
      " 4   CountyOfConviction  383 non-null    object\n",
      " 5   AgeWhenReceived     383 non-null    int64 \n",
      " 6   EducationLevel      383 non-null    int64 \n",
      " 7   NativeCounty        383 non-null    int64 \n",
      " 8   PreviousCrime       383 non-null    int64 \n",
      " 9   Codefendants        383 non-null    int64 \n",
      " 10  NumberVictim        383 non-null    int64 \n",
      " 11  WhiteVictim         383 non-null    int64 \n",
      " 12  HispanicVictim      383 non-null    int64 \n",
      " 13  BlackVictim         383 non-null    int64 \n",
      " 14  VictimOther.Races   383 non-null    int64 \n",
      " 15  FemaleVictim        383 non-null    int64 \n",
      " 16  MaleVictim          383 non-null    int64 \n",
      "dtypes: int64(14), object(3)\n",
      "memory usage: 53.9+ KB\n"
     ]
    }
   ],
   "source": [
    "# Get DataFrame info\n",
    "df.info()"
   ]
  },
  {
   "cell_type": "code",
   "execution_count": 4,
   "metadata": {
    "colab": {
     "base_uri": "https://localhost:8080/",
     "height": 302
    },
    "id": "crurIpEekzdz",
    "outputId": "e8017062-f095-47ea-a45c-ee8b82ee3397"
   },
   "outputs": [
    {
     "data": {
      "text/html": [
       "<div>\n",
       "<style scoped>\n",
       "    .dataframe tbody tr th:only-of-type {\n",
       "        vertical-align: middle;\n",
       "    }\n",
       "\n",
       "    .dataframe tbody tr th {\n",
       "        vertical-align: top;\n",
       "    }\n",
       "\n",
       "    .dataframe thead th {\n",
       "        text-align: right;\n",
       "    }\n",
       "</style>\n",
       "<table border=\"1\" class=\"dataframe\">\n",
       "  <thead>\n",
       "    <tr style=\"text-align: right;\">\n",
       "      <th></th>\n",
       "      <th>FirstName</th>\n",
       "      <th>TDCJNumber</th>\n",
       "      <th>Age</th>\n",
       "      <th>Race</th>\n",
       "      <th>CountyOfConviction</th>\n",
       "      <th>AgeWhenReceived</th>\n",
       "      <th>EducationLevel</th>\n",
       "      <th>NativeCounty</th>\n",
       "      <th>PreviousCrime</th>\n",
       "      <th>Codefendants</th>\n",
       "      <th>NumberVictim</th>\n",
       "      <th>WhiteVictim</th>\n",
       "      <th>HispanicVictim</th>\n",
       "      <th>BlackVictim</th>\n",
       "      <th>VictimOther.Races</th>\n",
       "      <th>FemaleVictim</th>\n",
       "      <th>MaleVictim</th>\n",
       "    </tr>\n",
       "    <tr>\n",
       "      <th>LastName</th>\n",
       "      <th></th>\n",
       "      <th></th>\n",
       "      <th></th>\n",
       "      <th></th>\n",
       "      <th></th>\n",
       "      <th></th>\n",
       "      <th></th>\n",
       "      <th></th>\n",
       "      <th></th>\n",
       "      <th></th>\n",
       "      <th></th>\n",
       "      <th></th>\n",
       "      <th></th>\n",
       "      <th></th>\n",
       "      <th></th>\n",
       "      <th></th>\n",
       "      <th></th>\n",
       "    </tr>\n",
       "  </thead>\n",
       "  <tbody>\n",
       "    <tr>\n",
       "      <th>Cardenas</th>\n",
       "      <td>Ruben</td>\n",
       "      <td>999275</td>\n",
       "      <td>47</td>\n",
       "      <td>Hispanic</td>\n",
       "      <td>Hidalgo</td>\n",
       "      <td>28</td>\n",
       "      <td>11</td>\n",
       "      <td>1</td>\n",
       "      <td>0</td>\n",
       "      <td>0</td>\n",
       "      <td>1</td>\n",
       "      <td>0</td>\n",
       "      <td>1</td>\n",
       "      <td>0</td>\n",
       "      <td>0</td>\n",
       "      <td>1</td>\n",
       "      <td>0</td>\n",
       "    </tr>\n",
       "    <tr>\n",
       "      <th>Pruett</th>\n",
       "      <td>Robert</td>\n",
       "      <td>999411</td>\n",
       "      <td>38</td>\n",
       "      <td>White</td>\n",
       "      <td>Bee</td>\n",
       "      <td>22</td>\n",
       "      <td>8</td>\n",
       "      <td>0</td>\n",
       "      <td>1</td>\n",
       "      <td>0</td>\n",
       "      <td>1</td>\n",
       "      <td>1</td>\n",
       "      <td>0</td>\n",
       "      <td>0</td>\n",
       "      <td>0</td>\n",
       "      <td>0</td>\n",
       "      <td>1</td>\n",
       "    </tr>\n",
       "    <tr>\n",
       "      <th>Preyor</th>\n",
       "      <td>Taichin</td>\n",
       "      <td>999494</td>\n",
       "      <td>46</td>\n",
       "      <td>Black</td>\n",
       "      <td>Bexar</td>\n",
       "      <td>34</td>\n",
       "      <td>10</td>\n",
       "      <td>0</td>\n",
       "      <td>0</td>\n",
       "      <td>0</td>\n",
       "      <td>1</td>\n",
       "      <td>1</td>\n",
       "      <td>0</td>\n",
       "      <td>0</td>\n",
       "      <td>0</td>\n",
       "      <td>0</td>\n",
       "      <td>1</td>\n",
       "    </tr>\n",
       "    <tr>\n",
       "      <th>Bigby</th>\n",
       "      <td>James</td>\n",
       "      <td>997</td>\n",
       "      <td>61</td>\n",
       "      <td>White</td>\n",
       "      <td>Tarrant</td>\n",
       "      <td>36</td>\n",
       "      <td>9</td>\n",
       "      <td>0</td>\n",
       "      <td>1</td>\n",
       "      <td>0</td>\n",
       "      <td>1</td>\n",
       "      <td>1</td>\n",
       "      <td>0</td>\n",
       "      <td>0</td>\n",
       "      <td>0</td>\n",
       "      <td>0</td>\n",
       "      <td>1</td>\n",
       "    </tr>\n",
       "    <tr>\n",
       "      <th>Ruiz</th>\n",
       "      <td>Rolando</td>\n",
       "      <td>999145</td>\n",
       "      <td>44</td>\n",
       "      <td>Hispanic</td>\n",
       "      <td>Bexar</td>\n",
       "      <td>22</td>\n",
       "      <td>10</td>\n",
       "      <td>0</td>\n",
       "      <td>1</td>\n",
       "      <td>4</td>\n",
       "      <td>1</td>\n",
       "      <td>0</td>\n",
       "      <td>1</td>\n",
       "      <td>0</td>\n",
       "      <td>0</td>\n",
       "      <td>1</td>\n",
       "      <td>0</td>\n",
       "    </tr>\n",
       "  </tbody>\n",
       "</table>\n",
       "</div>"
      ],
      "text/plain": [
       "         FirstName  TDCJNumber  Age      Race CountyOfConviction  \\\n",
       "LastName                                                           \n",
       "Cardenas     Ruben      999275   47  Hispanic            Hidalgo   \n",
       "Pruett      Robert      999411   38     White                Bee   \n",
       "Preyor     Taichin      999494   46     Black              Bexar   \n",
       "Bigby        James         997   61     White            Tarrant   \n",
       "Ruiz       Rolando      999145   44  Hispanic              Bexar   \n",
       "\n",
       "          AgeWhenReceived  EducationLevel  NativeCounty  PreviousCrime  \\\n",
       "LastName                                                                 \n",
       "Cardenas               28              11             1              0   \n",
       "Pruett                 22               8             0              1   \n",
       "Preyor                 34              10             0              0   \n",
       "Bigby                  36               9             0              1   \n",
       "Ruiz                   22              10             0              1   \n",
       "\n",
       "          Codefendants  NumberVictim  WhiteVictim  HispanicVictim  \\\n",
       "LastName                                                            \n",
       "Cardenas             0             1            0               1   \n",
       "Pruett               0             1            1               0   \n",
       "Preyor               0             1            1               0   \n",
       "Bigby                0             1            1               0   \n",
       "Ruiz                 4             1            0               1   \n",
       "\n",
       "          BlackVictim  VictimOther.Races  FemaleVictim  MaleVictim  \n",
       "LastName                                                            \n",
       "Cardenas            0                  0             1           0  \n",
       "Pruett              0                  0             0           1  \n",
       "Preyor              0                  0             0           1  \n",
       "Bigby               0                  0             0           1  \n",
       "Ruiz                0                  0             1           0  "
      ]
     },
     "execution_count": 4,
     "metadata": {},
     "output_type": "execute_result"
    }
   ],
   "source": [
    "# head\n",
    "df.head()"
   ]
  },
  {
   "cell_type": "markdown",
   "metadata": {
    "id": "mzP09_zBdoB_"
   },
   "source": [
    "### Preprocessing"
   ]
  },
  {
   "cell_type": "markdown",
   "metadata": {
    "id": "tm9XD1lWxBXW"
   },
   "source": [
    "While there are a number of preprocessing steps you may choose to make, at the very least you should do the following.\n",
    "\n",
    "Based on the data dictionary and how the data is interpreted by Numpy, convert any non-numeric data into the proper form. Verify that your code worked correctly."
   ]
  },
  {
   "cell_type": "code",
   "execution_count": 10,
   "metadata": {
    "id": "zOU2yTTBdoB_"
   },
   "outputs": [],
   "source": [
    "# Use the map function to change the two variables\n",
    "df['NativeCounty'] = df['NativeCounty'].map({1: 'Yes', 0: 'No'})\n",
    "df['PreviousCrime'] = df['PreviousCrime'].map({1: 'Yes', 0: 'No'})"
   ]
  },
  {
   "cell_type": "code",
   "execution_count": 11,
   "metadata": {
    "colab": {
     "base_uri": "https://localhost:8080/",
     "height": 302
    },
    "id": "wNWgeYFYp3wg",
    "outputId": "08299ba1-a4db-4a88-ed71-a30eaa05b75f"
   },
   "outputs": [
    {
     "data": {
      "text/html": [
       "<div>\n",
       "<style scoped>\n",
       "    .dataframe tbody tr th:only-of-type {\n",
       "        vertical-align: middle;\n",
       "    }\n",
       "\n",
       "    .dataframe tbody tr th {\n",
       "        vertical-align: top;\n",
       "    }\n",
       "\n",
       "    .dataframe thead th {\n",
       "        text-align: right;\n",
       "    }\n",
       "</style>\n",
       "<table border=\"1\" class=\"dataframe\">\n",
       "  <thead>\n",
       "    <tr style=\"text-align: right;\">\n",
       "      <th></th>\n",
       "      <th>FirstName</th>\n",
       "      <th>TDCJNumber</th>\n",
       "      <th>Age</th>\n",
       "      <th>Race</th>\n",
       "      <th>CountyOfConviction</th>\n",
       "      <th>AgeWhenReceived</th>\n",
       "      <th>EducationLevel</th>\n",
       "      <th>NativeCounty</th>\n",
       "      <th>PreviousCrime</th>\n",
       "      <th>Codefendants</th>\n",
       "      <th>NumberVictim</th>\n",
       "      <th>WhiteVictim</th>\n",
       "      <th>HispanicVictim</th>\n",
       "      <th>BlackVictim</th>\n",
       "      <th>VictimOther.Races</th>\n",
       "      <th>FemaleVictim</th>\n",
       "      <th>MaleVictim</th>\n",
       "    </tr>\n",
       "    <tr>\n",
       "      <th>LastName</th>\n",
       "      <th></th>\n",
       "      <th></th>\n",
       "      <th></th>\n",
       "      <th></th>\n",
       "      <th></th>\n",
       "      <th></th>\n",
       "      <th></th>\n",
       "      <th></th>\n",
       "      <th></th>\n",
       "      <th></th>\n",
       "      <th></th>\n",
       "      <th></th>\n",
       "      <th></th>\n",
       "      <th></th>\n",
       "      <th></th>\n",
       "      <th></th>\n",
       "      <th></th>\n",
       "    </tr>\n",
       "  </thead>\n",
       "  <tbody>\n",
       "    <tr>\n",
       "      <th>Cardenas</th>\n",
       "      <td>Ruben</td>\n",
       "      <td>999275</td>\n",
       "      <td>47</td>\n",
       "      <td>Hispanic</td>\n",
       "      <td>Hidalgo</td>\n",
       "      <td>28</td>\n",
       "      <td>11</td>\n",
       "      <td>Yes</td>\n",
       "      <td>No</td>\n",
       "      <td>0</td>\n",
       "      <td>1</td>\n",
       "      <td>0</td>\n",
       "      <td>1</td>\n",
       "      <td>0</td>\n",
       "      <td>0</td>\n",
       "      <td>1</td>\n",
       "      <td>0</td>\n",
       "    </tr>\n",
       "    <tr>\n",
       "      <th>Pruett</th>\n",
       "      <td>Robert</td>\n",
       "      <td>999411</td>\n",
       "      <td>38</td>\n",
       "      <td>White</td>\n",
       "      <td>Bee</td>\n",
       "      <td>22</td>\n",
       "      <td>8</td>\n",
       "      <td>No</td>\n",
       "      <td>Yes</td>\n",
       "      <td>0</td>\n",
       "      <td>1</td>\n",
       "      <td>1</td>\n",
       "      <td>0</td>\n",
       "      <td>0</td>\n",
       "      <td>0</td>\n",
       "      <td>0</td>\n",
       "      <td>1</td>\n",
       "    </tr>\n",
       "    <tr>\n",
       "      <th>Preyor</th>\n",
       "      <td>Taichin</td>\n",
       "      <td>999494</td>\n",
       "      <td>46</td>\n",
       "      <td>Black</td>\n",
       "      <td>Bexar</td>\n",
       "      <td>34</td>\n",
       "      <td>10</td>\n",
       "      <td>No</td>\n",
       "      <td>No</td>\n",
       "      <td>0</td>\n",
       "      <td>1</td>\n",
       "      <td>1</td>\n",
       "      <td>0</td>\n",
       "      <td>0</td>\n",
       "      <td>0</td>\n",
       "      <td>0</td>\n",
       "      <td>1</td>\n",
       "    </tr>\n",
       "    <tr>\n",
       "      <th>Bigby</th>\n",
       "      <td>James</td>\n",
       "      <td>997</td>\n",
       "      <td>61</td>\n",
       "      <td>White</td>\n",
       "      <td>Tarrant</td>\n",
       "      <td>36</td>\n",
       "      <td>9</td>\n",
       "      <td>No</td>\n",
       "      <td>Yes</td>\n",
       "      <td>0</td>\n",
       "      <td>1</td>\n",
       "      <td>1</td>\n",
       "      <td>0</td>\n",
       "      <td>0</td>\n",
       "      <td>0</td>\n",
       "      <td>0</td>\n",
       "      <td>1</td>\n",
       "    </tr>\n",
       "    <tr>\n",
       "      <th>Ruiz</th>\n",
       "      <td>Rolando</td>\n",
       "      <td>999145</td>\n",
       "      <td>44</td>\n",
       "      <td>Hispanic</td>\n",
       "      <td>Bexar</td>\n",
       "      <td>22</td>\n",
       "      <td>10</td>\n",
       "      <td>No</td>\n",
       "      <td>Yes</td>\n",
       "      <td>4</td>\n",
       "      <td>1</td>\n",
       "      <td>0</td>\n",
       "      <td>1</td>\n",
       "      <td>0</td>\n",
       "      <td>0</td>\n",
       "      <td>1</td>\n",
       "      <td>0</td>\n",
       "    </tr>\n",
       "  </tbody>\n",
       "</table>\n",
       "</div>"
      ],
      "text/plain": [
       "         FirstName  TDCJNumber  Age      Race CountyOfConviction  \\\n",
       "LastName                                                           \n",
       "Cardenas     Ruben      999275   47  Hispanic            Hidalgo   \n",
       "Pruett      Robert      999411   38     White                Bee   \n",
       "Preyor     Taichin      999494   46     Black              Bexar   \n",
       "Bigby        James         997   61     White            Tarrant   \n",
       "Ruiz       Rolando      999145   44  Hispanic              Bexar   \n",
       "\n",
       "          AgeWhenReceived  EducationLevel NativeCounty PreviousCrime  \\\n",
       "LastName                                                               \n",
       "Cardenas               28              11          Yes            No   \n",
       "Pruett                 22               8           No           Yes   \n",
       "Preyor                 34              10           No            No   \n",
       "Bigby                  36               9           No           Yes   \n",
       "Ruiz                   22              10           No           Yes   \n",
       "\n",
       "          Codefendants  NumberVictim  WhiteVictim  HispanicVictim  \\\n",
       "LastName                                                            \n",
       "Cardenas             0             1            0               1   \n",
       "Pruett               0             1            1               0   \n",
       "Preyor               0             1            1               0   \n",
       "Bigby                0             1            1               0   \n",
       "Ruiz                 4             1            0               1   \n",
       "\n",
       "          BlackVictim  VictimOther.Races  FemaleVictim  MaleVictim  \n",
       "LastName                                                            \n",
       "Cardenas            0                  0             1           0  \n",
       "Pruett              0                  0             0           1  \n",
       "Preyor              0                  0             0           1  \n",
       "Bigby               0                  0             0           1  \n",
       "Ruiz                0                  0             1           0  "
      ]
     },
     "execution_count": 11,
     "metadata": {},
     "output_type": "execute_result"
    }
   ],
   "source": [
    "# Verify this was done correctly\n",
    "df.head()\n"
   ]
  },
  {
   "cell_type": "code",
   "execution_count": 12,
   "metadata": {
    "colab": {
     "base_uri": "https://localhost:8080/"
    },
    "id": "89Uh5cuTp9T4",
    "outputId": "3d843fbd-b1cf-4537-cd1b-05ba160ec937"
   },
   "outputs": [
    {
     "name": "stdout",
     "output_type": "stream",
     "text": [
      "<class 'pandas.core.frame.DataFrame'>\n",
      "Index: 383 entries, Cardenas to Brooks, Jr.\n",
      "Data columns (total 17 columns):\n",
      " #   Column              Non-Null Count  Dtype \n",
      "---  ------              --------------  ----- \n",
      " 0   FirstName           383 non-null    object\n",
      " 1   TDCJNumber          383 non-null    int64 \n",
      " 2   Age                 383 non-null    int64 \n",
      " 3   Race                383 non-null    object\n",
      " 4   CountyOfConviction  383 non-null    object\n",
      " 5   AgeWhenReceived     383 non-null    int64 \n",
      " 6   EducationLevel      383 non-null    int64 \n",
      " 7   NativeCounty        382 non-null    object\n",
      " 8   PreviousCrime       383 non-null    object\n",
      " 9   Codefendants        383 non-null    int64 \n",
      " 10  NumberVictim        383 non-null    int64 \n",
      " 11  WhiteVictim         383 non-null    int64 \n",
      " 12  HispanicVictim      383 non-null    int64 \n",
      " 13  BlackVictim         383 non-null    int64 \n",
      " 14  VictimOther.Races   383 non-null    int64 \n",
      " 15  FemaleVictim        383 non-null    int64 \n",
      " 16  MaleVictim          383 non-null    int64 \n",
      "dtypes: int64(12), object(5)\n",
      "memory usage: 53.9+ KB\n"
     ]
    }
   ],
   "source": [
    "# Verify this was done correctly\n",
    "df.info()\n"
   ]
  },
  {
   "cell_type": "markdown",
   "metadata": {
    "id": "0YKRMML9sMZd"
   },
   "source": [
    "### EDA\n",
    "\n",
    "Now perform Exploratory Data Analysis of at least three variables of your choosing. You should look at both descriptive statistics and visualizations."
   ]
  },
  {
   "cell_type": "code",
   "execution_count": 17,
   "metadata": {
    "colab": {
     "base_uri": "https://localhost:8080/",
     "height": 364
    },
    "id": "6ywarJPosbIm",
    "outputId": "104653ae-4443-404a-c6b9-a15956928e9f"
   },
   "outputs": [
    {
     "name": "stdout",
     "output_type": "stream",
     "text": [
      "count    383.000000\n",
      "mean      28.503916\n",
      "std        8.181793\n",
      "min       17.000000\n",
      "25%       22.000000\n",
      "50%       26.000000\n",
      "75%       33.500000\n",
      "max       57.000000\n",
      "Name: AgeWhenReceived, dtype: float64\n",
      "count    383.000000\n",
      "mean      10.182768\n",
      "std        2.071501\n",
      "min        0.000000\n",
      "25%        9.000000\n",
      "50%       10.000000\n",
      "75%       12.000000\n",
      "max       16.000000\n",
      "Name: EducationLevel, dtype: float64\n",
      "count       383\n",
      "unique        4\n",
      "top       White\n",
      "freq        179\n",
      "Name: Race, dtype: object\n"
     ]
    }
   ],
   "source": [
    "# EDA code sample\n",
    "# describe\n",
    "\n",
    "print(df['AgeWhenReceived'].describe())\n",
    "print(df['EducationLevel'].describe())\n",
    "print(df['Race'].describe())"
   ]
  },
  {
   "cell_type": "code",
   "execution_count": 15,
   "metadata": {
    "colab": {
     "base_uri": "https://localhost:8080/"
    },
    "id": "pQmsV_C1urzy",
    "outputId": "58a5262e-c7aa-41b5-b296-4e1de168c1e4"
   },
   "outputs": [
    {
     "data": {
      "text/plain": [
       "White       179\n",
       "Black       130\n",
       "Hispanic     73\n",
       "Other         1\n",
       "Name: Race, dtype: int64"
      ]
     },
     "execution_count": 15,
     "metadata": {},
     "output_type": "execute_result"
    }
   ],
   "source": [
    "# EDA code sample\n",
    "# Count the number of each race\n",
    "\n",
    "raceCount = df['Race'].value_counts()\n",
    "raceCount"
   ]
  },
  {
   "cell_type": "code",
   "execution_count": 16,
   "metadata": {
    "colab": {
     "base_uri": "https://localhost:8080/",
     "height": 484
    },
    "id": "a3GT1AzYwaIJ",
    "outputId": "c79af886-d4d1-4e30-a1b5-928fc19fef90"
   },
   "outputs": [
    {
     "data": {
      "text/plain": [
       "(array([28., 66., 65., 89., 48., 36., 25., 13., 10.,  3.]),\n",
       " array([24. , 28.3, 32.6, 36.9, 41.2, 45.5, 49.8, 54.1, 58.4, 62.7, 67. ]),\n",
       " <BarContainer object of 10 artists>)"
      ]
     },
     "execution_count": 16,
     "metadata": {},
     "output_type": "execute_result"
    },
    {
     "data": {
      "image/png": "[encoded data removed]",
      "text/plain": [
       "<Figure size 432x288 with 1 Axes>"
      ]
     },
     "metadata": {
      "needs_background": "light"
     },
     "output_type": "display_data"
    }
   ],
   "source": [
    "# EDA code sample\n",
    "# Plot age (use histogram)\n",
    "plt.hist(df['Age'])"
   ]
  },
  {
   "cell_type": "markdown",
   "metadata": {
    "id": "IZuCqdl0zCZy"
   },
   "source": [
    "## Statistical Inference"
   ]
  },
  {
   "cell_type": "markdown",
   "metadata": {
    "id": "1Dq2fGxM0dnU"
   },
   "source": [
    "### One mean"
   ]
  },
  {
   "cell_type": "markdown",
   "metadata": {
    "id": "soyonlcH0ev-"
   },
   "source": [
    "Now pick a variable that you can perform statistical inference on a single sample mean using the t-distribution."
   ]
  },
  {
   "cell_type": "markdown",
   "metadata": {
    "id": "87GfQFt3QjEy"
   },
   "source": [
    "In the code block below please respond to all of the following (commented out):\n",
    "\n",
    "*   What is the variable you chose?\n",
    "*   How do you know it is appropriate for statistical inference on a single mean using the t-distribution?\n",
    "*   You'll be asked to contruct and interpret a confidence interval. What is the level of confidence that you'll pick?\n",
    "*   You'll be asked to perform a hypothesis test.\n",
    "  *   What are the null and alternative hypotheses?\n",
    "  *   What is the level of significance?\n",
    "\n"
   ]
  },
  {
   "cell_type": "code",
   "execution_count": 19,
   "metadata": {
    "id": "F7Nkbm1_SI5M"
   },
   "outputs": [],
   "source": [
    "# Responses to questions\n",
    "\n",
    "# The variable we choose is EducationLevel\n",
    "\n",
    "# It is appropriate for statistical inference because it is numerical\n",
    "\n",
    "# We choose 95% confidence interval\n",
    "\n",
    "# Null Hypothesis: The average criminal has education level 10.18\n",
    "# Alternative Hypothesis: The average criminal does not have education level 10.18\n",
    "# Level of significance alpha = 0.05\n",
    "\n",
    "# Response snippet: Education level with the null value at 0.\n"
   ]
  },
  {
   "cell_type": "markdown",
   "metadata": {
    "id": "h1o5o7cITLe6"
   },
   "source": [
    "#### Confidence Interval"
   ]
  },
  {
   "cell_type": "markdown",
   "metadata": {
    "id": "fnG0w6QeTYD1"
   },
   "source": [
    "Now construct a confidence interval for your chosen variable at the level of confidence you chose above."
   ]
  },
  {
   "cell_type": "code",
   "execution_count": 26,
   "metadata": {
    "colab": {
     "base_uri": "https://localhost:8080/"
    },
    "id": "LeOuI5pITmwM",
    "outputId": "1547c853-0033-4986-d6a0-43d3576b4a2e"
   },
   "outputs": [
    {
     "data": {
      "text/plain": [
       "1.5013403972802926"
      ]
     },
     "execution_count": 26,
     "metadata": {},
     "output_type": "execute_result"
    }
   ],
   "source": [
    "# Construct the confidence interval\n",
    "\n",
    "n = 30\n",
    "sample = df['EducationLevel'].sample(n = n)\n",
    "mean = sample.mean()\n",
    "stdev = sample.std()\n"
   ]
  },
  {
   "cell_type": "markdown",
   "metadata": {
    "id": "emTNtBqvTqh3"
   },
   "source": [
    "Interpret the confidence interval in the code block below (commented out)."
   ]
  },
  {
   "cell_type": "code",
   "execution_count": null,
   "metadata": {
    "id": "2Bzz2cBcT6PV"
   },
   "outputs": [],
   "source": [
    "# Interpretation\n"
   ]
  },
  {
   "cell_type": "markdown",
   "metadata": {
    "id": "VGFky-GaT_Om"
   },
   "source": [
    "#### Hypothesis Test"
   ]
  },
  {
   "cell_type": "markdown",
   "metadata": {
    "id": "C0l8ylVUUW9F"
   },
   "source": [
    "Now perform a hypothesis test for your chosen variable at the level of significance you chose above."
   ]
  },
  {
   "cell_type": "code",
   "execution_count": null,
   "metadata": {
    "colab": {
     "base_uri": "https://localhost:8080/"
    },
    "id": "rQ7qbMrrVNDm",
    "outputId": "c73b0131-879a-4568-ff73-6ee21874e1cb"
   },
   "outputs": [],
   "source": [
    "# Perform the hypothesis test\n",
    "\n",
    "res2 = None\n",
    "res2"
   ]
  },
  {
   "cell_type": "markdown",
   "metadata": {
    "id": "ZD2k0txIVX3y"
   },
   "source": [
    "Draw the appropriate conclusion for the hypothesis test and justify your answer in the code block below (commented out)."
   ]
  },
  {
   "cell_type": "code",
   "execution_count": null,
   "metadata": {
    "id": "8r7OoGfmVseA"
   },
   "outputs": [],
   "source": [
    "# Conclusion\n"
   ]
  },
  {
   "cell_type": "markdown",
   "metadata": {
    "id": "VnIXJUgCSH3l"
   },
   "source": [
    "### Two means"
   ]
  },
  {
   "cell_type": "markdown",
   "metadata": {
    "id": "IUlz7BvxSM5Q"
   },
   "source": [
    "Now pick a variable that you can perform statistical inference on two (independent) sample means using the t-distribution."
   ]
  },
  {
   "cell_type": "markdown",
   "metadata": {
    "id": "_PXV36ayTBJK"
   },
   "source": [
    "In the code block below please respond to all of the following (commented out):\n",
    "\n",
    "*   What are the variables you chose?\n",
    "*   How do you know it is appropriate for statistical inference on two (independent)means using the t-distribution?\n",
    "*   You'll be asked to contruct and interpret a confidence interval. What is the level of confidence that you'll pick?\n",
    "*   You'll be asked to perform a hypothesis test.\n",
    "  *   What are the null and alternative hypotheses?\n",
    "  *   What is the level of significance?"
   ]
  },
  {
   "cell_type": "code",
   "execution_count": null,
   "metadata": {
    "id": "yEAyU3Q4WTRp"
   },
   "outputs": [],
   "source": [
    "\n",
    "# Responses to questions\n",
    "\n",
    "# Response snippet: Number of victims by previous crime (Yes or No)"
   ]
  },
  {
   "cell_type": "markdown",
   "metadata": {
    "id": "Pc3egPxSWTdE"
   },
   "source": [
    "#### Confidence Interval"
   ]
  },
  {
   "cell_type": "markdown",
   "metadata": {
    "id": "3MiDuELxWZ_T"
   },
   "source": [
    "Now construct a confidence interval for your chosen variables at the level of confidence you chose above."
   ]
  },
  {
   "cell_type": "code",
   "execution_count": null,
   "metadata": {
    "colab": {
     "base_uri": "https://localhost:8080/"
    },
    "id": "-g1_OSomWexB",
    "outputId": "593645dd-e6b2-4679-9fb4-2b6f4b2474fa"
   },
   "outputs": [],
   "source": [
    "# Construct the confidence interval\n",
    "\n",
    "res3 = None"
   ]
  },
  {
   "cell_type": "markdown",
   "metadata": {
    "id": "pPRD7akgWs1R"
   },
   "source": [
    "Interpret the confidence interval in the code block below (commented out)."
   ]
  },
  {
   "cell_type": "code",
   "execution_count": null,
   "metadata": {
    "id": "rKu1Jpo5Wvo8"
   },
   "outputs": [],
   "source": [
    "# Interpretation\n"
   ]
  },
  {
   "cell_type": "markdown",
   "metadata": {
    "id": "6DsuqsS9XEPN"
   },
   "source": [
    "#### Hypothesis Test"
   ]
  },
  {
   "cell_type": "markdown",
   "metadata": {
    "id": "UqEBwLsyXHfi"
   },
   "source": [
    "Now perform a hypothesis test for your chosen variable at the level of significance you chose above."
   ]
  },
  {
   "cell_type": "code",
   "execution_count": null,
   "metadata": {
    "colab": {
     "base_uri": "https://localhost:8080/"
    },
    "id": "MGWw-zmJXLxO",
    "outputId": "5685bfef-62b5-457e-fdf8-1bc93efe2534"
   },
   "outputs": [],
   "source": [
    "# Perform the hypothesis test\n",
    "\n",
    "res4 = None\n",
    "res4"
   ]
  },
  {
   "cell_type": "markdown",
   "metadata": {
    "id": "AdN0_obgXQlD"
   },
   "source": [
    "Draw the appropriate conclusion for the hypothesis test and justify your answer in the code block below (commented out)."
   ]
  },
  {
   "cell_type": "code",
   "execution_count": null,
   "metadata": {
    "id": "pGgMl_a-XRGo"
   },
   "outputs": [],
   "source": [
    "# Conclusion\n"
   ]
  },
  {
   "cell_type": "markdown",
   "metadata": {
    "id": "KiRJUYK3doCA"
   },
   "source": [
    "## Summary"
   ]
  },
  {
   "cell_type": "markdown",
   "metadata": {
    "id": "6x2NdSafXYsl"
   },
   "source": [
    "Using a multivariate data set, you were able to pick variables to perform one and two sample t confidence intervals and t-tests."
   ]
  }
 ],
 "metadata": {
  "colab": {
   "provenance": []
  },
  "kernelspec": {
   "display_name": "Python 3",
   "language": "python",
   "name": "python3"
  },
  "language_info": {
   "codemirror_mode": {
    "name": "ipython",
    "version": 3
   },
   "file_extension": ".py",
   "mimetype": "text/x-python",
   "name": "python",
   "nbconvert_exporter": "python",
   "pygments_lexer": "ipython3",
   "version": "3.8.5"
  }
 },
 "nbformat": 4,
 "nbformat_minor": 4
}
