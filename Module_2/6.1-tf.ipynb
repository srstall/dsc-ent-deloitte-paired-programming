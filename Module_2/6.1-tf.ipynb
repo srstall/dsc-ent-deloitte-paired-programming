{
 "cells": [
  {
   "cell_type": "markdown",
   "metadata": {
    "nbgrader": {
     "grade": false,
     "grade_id": "cell-a405f9c797c90edb",
     "locked": true,
     "schema_version": 3,
     "solution": false,
     "task": false
    }
   },
   "source": [
    "# TensorFlow Checkpoint\n",
    "\n",
    "This assessment covers building and training a `tf.keras` `Sequential` model, then applying regularization.  The dataset comes from a [\"don't overfit\" Kaggle competition](https://www.kaggle.com/c/dont-overfit-ii).  There are 300 features labeled 0-299, and a binary target called \"target\".  There are only 250 records total, meaning this is a very small dataset to be used with a neural network. \n",
    "\n",
    "_You can assume that the dataset has already been scaled._\n",
    "\n",
    "N.B. You may get comments from keras/ternsorflow regarding your kernel and runtime. These are completely normal and are informative comments, rather than warnings."
   ]
  },
  {
   "cell_type": "code",
   "execution_count": 1,
   "metadata": {
    "ExecuteTime": {
     "end_time": "2020-11-04T16:46:28.793582Z",
     "start_time": "2020-11-04T16:46:24.326301Z"
    },
    "nbgrader": {
     "grade": false,
     "grade_id": "cell-4ab18aba8319e5bb",
     "locked": true,
     "schema_version": 3,
     "solution": false,
     "task": false
    }
   },
   "outputs": [],
   "source": [
    "# Run this cell without changes\n",
    "\n",
    "import matplotlib.pyplot as plt\n",
    "import seaborn as sns\n",
    "\n",
    "import numpy as np\n",
    "import pandas as pd\n",
    "from sklearn.metrics import accuracy_score\n",
    "from sklearn.model_selection import train_test_split\n",
    "\n",
    "import tensorflow as tf\n",
    "from tensorflow.keras import Sequential, regularizers\n",
    "from tensorflow.keras.layers import Dense, Dropout\n",
    "from tensorflow.keras.wrappers.scikit_learn import KerasClassifier"
   ]
  },
  {
   "cell_type": "markdown",
   "metadata": {
    "nbgrader": {
     "grade": false,
     "grade_id": "cell-c7b992c89bbf7019",
     "locked": true,
     "schema_version": 3,
     "solution": false,
     "task": false
    }
   },
   "source": [
    "## 1) Prepare Data for Modeling\n",
    "\n",
    "* Using `pandas`, open the file `data.csv` as a DataFrame\n",
    "* Drop the `\"id\"` column, since this is a unique identifier and not a feature\n",
    "* Separate the data into `X` (a DataFrame with all columns except `\"target\"`) and `y` (a Series with just the `\"target\"` column)\n",
    "* The train-test split should work as-is once you create these variables"
   ]
  },
  {
   "cell_type": "code",
   "execution_count": 2,
   "metadata": {
    "nbgrader": {
     "grade": false,
     "grade_id": "cell-d01723acad72a02e",
     "locked": false,
     "schema_version": 3,
     "solution": true,
     "task": false
    }
   },
   "outputs": [],
   "source": [
    "# Replace None with appropriate code\n",
    "\n",
    "# Read in the data\n",
    "df = pd.read_csv('data.csv')\n",
    "\n",
    "# Drop the \"id\" column\n",
    "df = df.drop('id', axis=1)\n",
    "\n",
    "# Separate into X and y\n",
    "X = df.drop('target', axis=1)\n",
    "y = df['target']\n",
    "\n",
    "# Test/train split (set the random state to 2021) and check the X_Train shape\n",
    "X_train, X_test, y_train, y_test = train_test_split(X, y, random_state=2021)"
   ]
  },
  {
   "cell_type": "code",
   "execution_count": 3,
   "metadata": {},
   "outputs": [],
   "source": [
    "# Run this code block without any changes\n",
    "\n",
    "# Assert\n",
    "\n",
    "assert type(df) == pd.DataFrame\n",
    "assert type(X) == pd.DataFrame\n",
    "assert type(y) == pd.Series\n",
    "\n",
    "assert X_train.shape == (187, 300)\n",
    "assert y_train.shape == (187,)"
   ]
  },
  {
   "cell_type": "markdown",
   "metadata": {
    "nbgrader": {
     "grade": false,
     "grade_id": "cell-2aa2425f887ac9b0",
     "locked": true,
     "schema_version": 3,
     "solution": false,
     "task": false
    }
   },
   "source": [
    "## 2) Instantiate a `Sequential` Model\n",
    "\n",
    "In the cell below, create an instance of a `Sequential` model ([documentation here](https://keras.io/guides/sequential_model/)) called `dense_model` with a `name` of `\"dense\"` and otherwise default arguments.\n",
    "\n",
    "*In other words, create a model without any layers. We will add layers in a future step.*"
   ]
  },
  {
   "cell_type": "code",
   "execution_count": 4,
   "metadata": {
    "nbgrader": {
     "grade": false,
     "grade_id": "cell-6c7980c4f4e802ae",
     "locked": false,
     "schema_version": 3,
     "solution": true,
     "task": false
    }
   },
   "outputs": [],
   "source": [
    "# Replace None with appropriate code\n",
    "from tensorflow.keras import Sequential\n",
    "dense_model = Sequential(name=\"dense\")"
   ]
  },
  {
   "cell_type": "code",
   "execution_count": 5,
   "metadata": {
    "nbgrader": {
     "grade": true,
     "grade_id": "cell-4019299c1abee581",
     "locked": true,
     "points": 1,
     "schema_version": 3,
     "solution": false,
     "task": false
    }
   },
   "outputs": [],
   "source": [
    "# Run this code without change\n",
    "\n",
    "# Assert\n",
    "\n",
    "assert len(dense_model.layers) == 0\n",
    "assert type(dense_model) == Sequential\n",
    "assert dense_model.name == \"dense\"\n"
   ]
  },
  {
   "cell_type": "markdown",
   "metadata": {
    "nbgrader": {
     "grade": false,
     "grade_id": "cell-b777879670a57fbf",
     "locked": true,
     "schema_version": 3,
     "solution": false,
     "task": false
    }
   },
   "source": [
    "## 3) Determine Input and Output Shapes\n",
    "\n",
    "How many input and output nodes should this model have?\n",
    "\n",
    "Feel free to explore the attributes of `X` and `y` to determine this answer, or just to enter numbers based on the problem description above."
   ]
  },
  {
   "cell_type": "code",
   "execution_count": 6,
   "metadata": {
    "nbgrader": {
     "grade": false,
     "grade_id": "cell-63ba55e28070fbb7",
     "locked": false,
     "schema_version": 3,
     "solution": true,
     "task": false
    }
   },
   "outputs": [],
   "source": [
    "# Replace None with appropriate code\n",
    "\n",
    "num_input_nodes = X.shape[1]\n",
    "num_output_nodes = 1"
   ]
  },
  {
   "cell_type": "code",
   "execution_count": 7,
   "metadata": {
    "nbgrader": {
     "grade": true,
     "grade_id": "cell-f10eae123c0da13e",
     "locked": true,
     "points": 1,
     "schema_version": 3,
     "solution": false,
     "task": false
    }
   },
   "outputs": [
    {
     "data": {
      "text/plain": [
       "1.0"
      ]
     },
     "execution_count": 7,
     "metadata": {},
     "output_type": "execute_result"
    }
   ],
   "source": [
    "# Run this code without change\n",
    "\n",
    "# Both values should be integers\n",
    "assert type(num_input_nodes) == int\n",
    "assert type(num_output_nodes) == int\n",
    "\n",
    "score = 0\n",
    "\n",
    "# 300 features, so 300 input nodes\n",
    "if num_input_nodes == 300:\n",
    "    score += 0.5\n",
    "    \n",
    "# binary output, so 1 output node\n",
    "if num_output_nodes == 1:\n",
    "    score += 0.5\n",
    "elif num_output_nodes == 2:\n",
    "    # Partial credit for this answer, since it's technically\n",
    "    # possible to use 2 output nodes for this, although it's\n",
    "    # confusingly redundant\n",
    "    score += 0.25\n",
    "\n",
    "score"
   ]
  },
  {
   "cell_type": "markdown",
   "metadata": {
    "nbgrader": {
     "grade": false,
     "grade_id": "cell-1a3c44e684a51352",
     "locked": true,
     "schema_version": 3,
     "solution": false,
     "task": false
    }
   },
   "source": [
    "The code below will use the input and output shapes you specified to add `Dense` layers to the model:"
   ]
  },
  {
   "cell_type": "code",
   "execution_count": 8,
   "metadata": {},
   "outputs": [
    {
     "data": {
      "text/plain": [
       "[<tensorflow.python.keras.layers.core.Dense at 0x202144a7b50>,\n",
       " <tensorflow.python.keras.layers.core.Dense at 0x202144a7250>,\n",
       " <tensorflow.python.keras.layers.core.Dense at 0x202144c6f70>]"
      ]
     },
     "execution_count": 8,
     "metadata": {},
     "output_type": "execute_result"
    }
   ],
   "source": [
    "# Run this cell without changes\n",
    "\n",
    "# Add input layer\n",
    "dense_model.add(Dense(units=64, input_shape=(num_input_nodes,)))\n",
    "\n",
    "# Add hidden layers\n",
    "dense_model.add(Dense(units=64))\n",
    "dense_model.add(Dense(units=64))\n",
    "\n",
    "dense_model.layers"
   ]
  },
  {
   "cell_type": "markdown",
   "metadata": {
    "nbgrader": {
     "grade": false,
     "grade_id": "cell-8505e21901e1e252",
     "locked": true,
     "schema_version": 3,
     "solution": false,
     "task": false
    }
   },
   "source": [
    "## 4) Add an Output Layer\n",
    "\n",
    "Specify an appropriate activation function ([documentation here](https://keras.io/api/layers/activations/)).\n",
    "\n",
    "We'll simplify the problem by specifying that you should use the string identifier for the function, and it should be one of these options:\n",
    "\n",
    "* `sigmoid`\n",
    "* `softmax`\n",
    "\n",
    "***Hint:*** is this a binary or a multi-class problem? This should guide your choice of activation function."
   ]
  },
  {
   "cell_type": "code",
   "execution_count": 9,
   "metadata": {
    "nbgrader": {
     "grade": false,
     "grade_id": "cell-0aeea3d8ccac319e",
     "locked": false,
     "schema_version": 3,
     "solution": true,
     "task": false
    }
   },
   "outputs": [],
   "source": [
    "# Replace None with appropriate code\n",
    "\n",
    "activation_function = 'sigmoid'"
   ]
  },
  {
   "cell_type": "code",
   "execution_count": 10,
   "metadata": {
    "nbgrader": {
     "grade": true,
     "grade_id": "cell-332525f03472a594",
     "locked": true,
     "points": 1,
     "schema_version": 3,
     "solution": false,
     "task": false
    }
   },
   "outputs": [],
   "source": [
    "# Run this cell without changes\n",
    "\n",
    "# activation_function should be a string\n",
    "assert type(activation_function) == str\n",
    "\n",
    "if num_output_nodes == 1:\n",
    "    assert activation_function == \"sigmoid\"\n",
    "else:\n",
    "    # The number of output nodes _should_ be 1, but we'll\n",
    "    # give credit for a matching function even if the\n",
    "    # previous answer was incorrect\n",
    "    assert activation_function == \"softmax\""
   ]
  },
  {
   "cell_type": "markdown",
   "metadata": {
    "nbgrader": {
     "grade": false,
     "grade_id": "cell-5c793011c6345392",
     "locked": true,
     "schema_version": 3,
     "solution": false,
     "task": false
    }
   },
   "source": [
    "Now we'll use that information to finalize the model.\n",
    "\n",
    "If this code produces an error, consider restarting the kernel and re-running the code above. If it still produces an error, that is an indication that one or more of your answers above is incorrect."
   ]
  },
  {
   "cell_type": "code",
   "execution_count": 11,
   "metadata": {
    "nbgrader": {
     "grade": false,
     "grade_id": "cell-e04042f44ccb24bb",
     "locked": true,
     "schema_version": 3,
     "solution": false,
     "task": false
    }
   },
   "outputs": [
    {
     "name": "stdout",
     "output_type": "stream",
     "text": [
      "Model: \"dense\"\n",
      "_________________________________________________________________\n",
      "Layer (type)                 Output Shape              Param #   \n",
      "=================================================================\n",
      "dense (Dense)                (None, 64)                19264     \n",
      "_________________________________________________________________\n",
      "dense_1 (Dense)              (None, 64)                4160      \n",
      "_________________________________________________________________\n",
      "dense_2 (Dense)              (None, 64)                4160      \n",
      "_________________________________________________________________\n",
      "dense_3 (Dense)              (None, 1)                 65        \n",
      "=================================================================\n",
      "Total params: 27,649\n",
      "Trainable params: 27,649\n",
      "Non-trainable params: 0\n",
      "_________________________________________________________________\n"
     ]
    }
   ],
   "source": [
    "# Run this cell without changes\n",
    "\n",
    "# Add output layer\n",
    "dense_model.add(Dense(units=num_output_nodes, activation=activation_function))\n",
    "\n",
    "# Determine appropriate loss function\n",
    "if num_output_nodes == 1:\n",
    "    loss = \"binary_crossentropy\"\n",
    "else:\n",
    "    loss = \"categorical_crossentropy\"\n",
    "\n",
    "# Compile model\n",
    "dense_model.compile(\n",
    "    optimizer=\"adam\",\n",
    "    loss=loss,\n",
    "    metrics=[\"accuracy\"]\n",
    ")\n",
    "\n",
    "dense_model.summary()"
   ]
  },
  {
   "cell_type": "code",
   "execution_count": 17,
   "metadata": {
    "nbgrader": {
     "grade": false,
     "grade_id": "cell-d54efbf306c08d85",
     "locked": true,
     "schema_version": 3,
     "solution": false,
     "task": false
    }
   },
   "outputs": [
    {
     "name": "stdout",
     "output_type": "stream",
     "text": [
      "Epoch 1/50\n",
      "4/4 [==============================] - 0s 40ms/step - loss: 0.9108 - accuracy: 0.5536 - val_loss: 0.8613 - val_accuracy: 0.5333\n",
      "Epoch 2/50\n",
      "4/4 [==============================] - 0s 7ms/step - loss: 0.5432 - accuracy: 0.7411 - val_loss: 0.8254 - val_accuracy: 0.4933\n",
      "Epoch 3/50\n",
      "4/4 [==============================] - 0s 7ms/step - loss: 0.3700 - accuracy: 0.8750 - val_loss: 0.8386 - val_accuracy: 0.5067\n",
      "Epoch 4/50\n",
      "4/4 [==============================] - 0s 7ms/step - loss: 0.2637 - accuracy: 0.9554 - val_loss: 0.8556 - val_accuracy: 0.4933\n",
      "Epoch 5/50\n",
      "4/4 [==============================] - 0s 7ms/step - loss: 0.1732 - accuracy: 0.9821 - val_loss: 0.9057 - val_accuracy: 0.4933\n",
      "Epoch 6/50\n",
      "4/4 [==============================] - 0s 7ms/step - loss: 0.1124 - accuracy: 0.9911 - val_loss: 0.9799 - val_accuracy: 0.5333\n",
      "Epoch 7/50\n",
      "4/4 [==============================] - 0s 7ms/step - loss: 0.0664 - accuracy: 1.0000 - val_loss: 1.0693 - val_accuracy: 0.5467\n",
      "Epoch 8/50\n",
      "4/4 [==============================] - 0s 8ms/step - loss: 0.0386 - accuracy: 1.0000 - val_loss: 1.1703 - val_accuracy: 0.5467\n",
      "Epoch 9/50\n",
      "4/4 [==============================] - 0s 8ms/step - loss: 0.0233 - accuracy: 1.0000 - val_loss: 1.2748 - val_accuracy: 0.5467\n",
      "Epoch 10/50\n",
      "4/4 [==============================] - 0s 9ms/step - loss: 0.0139 - accuracy: 1.0000 - val_loss: 1.3704 - val_accuracy: 0.5467\n",
      "Epoch 11/50\n",
      "4/4 [==============================] - 0s 8ms/step - loss: 0.0093 - accuracy: 1.0000 - val_loss: 1.4570 - val_accuracy: 0.5467\n",
      "Epoch 12/50\n",
      "4/4 [==============================] - 0s 8ms/step - loss: 0.0062 - accuracy: 1.0000 - val_loss: 1.5301 - val_accuracy: 0.5467\n",
      "Epoch 13/50\n",
      "4/4 [==============================] - 0s 8ms/step - loss: 0.0044 - accuracy: 1.0000 - val_loss: 1.5902 - val_accuracy: 0.5467\n",
      "Epoch 14/50\n",
      "4/4 [==============================] - 0s 10ms/step - loss: 0.0034 - accuracy: 1.0000 - val_loss: 1.6397 - val_accuracy: 0.5467\n",
      "Epoch 15/50\n",
      "4/4 [==============================] - 0s 12ms/step - loss: 0.0027 - accuracy: 1.0000 - val_loss: 1.6799 - val_accuracy: 0.5467\n",
      "Epoch 16/50\n",
      "4/4 [==============================] - 0s 11ms/step - loss: 0.0022 - accuracy: 1.0000 - val_loss: 1.7141 - val_accuracy: 0.5467\n",
      "Epoch 17/50\n",
      "4/4 [==============================] - 0s 12ms/step - loss: 0.0019 - accuracy: 1.0000 - val_loss: 1.7423 - val_accuracy: 0.5467\n",
      "Epoch 18/50\n",
      "4/4 [==============================] - 0s 9ms/step - loss: 0.0016 - accuracy: 1.0000 - val_loss: 1.7671 - val_accuracy: 0.5467\n",
      "Epoch 19/50\n",
      "4/4 [==============================] - 0s 9ms/step - loss: 0.0015 - accuracy: 1.0000 - val_loss: 1.7890 - val_accuracy: 0.5467\n",
      "Epoch 20/50\n",
      "4/4 [==============================] - 0s 10ms/step - loss: 0.0013 - accuracy: 1.0000 - val_loss: 1.8086 - val_accuracy: 0.5467\n",
      "Epoch 21/50\n",
      "4/4 [==============================] - 0s 9ms/step - loss: 0.0012 - accuracy: 1.0000 - val_loss: 1.8261 - val_accuracy: 0.5467\n",
      "Epoch 22/50\n",
      "4/4 [==============================] - 0s 8ms/step - loss: 0.0011 - accuracy: 1.0000 - val_loss: 1.8417 - val_accuracy: 0.5467\n",
      "Epoch 23/50\n",
      "4/4 [==============================] - 0s 9ms/step - loss: 0.0011 - accuracy: 1.0000 - val_loss: 1.8559 - val_accuracy: 0.5467\n",
      "Epoch 24/50\n",
      "4/4 [==============================] - 0s 8ms/step - loss: 9.9161e-04 - accuracy: 1.0000 - val_loss: 1.8692 - val_accuracy: 0.5467\n",
      "Epoch 25/50\n",
      "4/4 [==============================] - 0s 10ms/step - loss: 9.3206e-04 - accuracy: 1.0000 - val_loss: 1.8816 - val_accuracy: 0.5467\n",
      "Epoch 26/50\n",
      "4/4 [==============================] - 0s 8ms/step - loss: 8.8157e-04 - accuracy: 1.0000 - val_loss: 1.8931 - val_accuracy: 0.5467\n",
      "Epoch 27/50\n",
      "4/4 [==============================] - 0s 11ms/step - loss: 8.3750e-04 - accuracy: 1.0000 - val_loss: 1.9044 - val_accuracy: 0.5600\n",
      "Epoch 28/50\n",
      "4/4 [==============================] - 0s 12ms/step - loss: 7.9229e-04 - accuracy: 1.0000 - val_loss: 1.9151 - val_accuracy: 0.5600\n",
      "Epoch 29/50\n",
      "4/4 [==============================] - 0s 12ms/step - loss: 7.5551e-04 - accuracy: 1.0000 - val_loss: 1.9258 - val_accuracy: 0.5600\n",
      "Epoch 30/50\n",
      "4/4 [==============================] - 0s 10ms/step - loss: 7.1996e-04 - accuracy: 1.0000 - val_loss: 1.9360 - val_accuracy: 0.5600\n",
      "Epoch 31/50\n",
      "4/4 [==============================] - 0s 12ms/step - loss: 6.8657e-04 - accuracy: 1.0000 - val_loss: 1.9462 - val_accuracy: 0.5467\n",
      "Epoch 32/50\n",
      "4/4 [==============================] - 0s 14ms/step - loss: 6.5477e-04 - accuracy: 1.0000 - val_loss: 1.9562 - val_accuracy: 0.5333\n",
      "Epoch 33/50\n",
      "4/4 [==============================] - 0s 8ms/step - loss: 6.2665e-04 - accuracy: 1.0000 - val_loss: 1.9656 - val_accuracy: 0.5333\n",
      "Epoch 34/50\n",
      "4/4 [==============================] - 0s 9ms/step - loss: 6.0028e-04 - accuracy: 1.0000 - val_loss: 1.9748 - val_accuracy: 0.5467\n",
      "Epoch 35/50\n",
      "4/4 [==============================] - 0s 13ms/step - loss: 5.7506e-04 - accuracy: 1.0000 - val_loss: 1.9843 - val_accuracy: 0.5467\n",
      "Epoch 36/50\n",
      "4/4 [==============================] - 0s 9ms/step - loss: 5.5134e-04 - accuracy: 1.0000 - val_loss: 1.9933 - val_accuracy: 0.5467\n",
      "Epoch 37/50\n",
      "4/4 [==============================] - 0s 8ms/step - loss: 5.2937e-04 - accuracy: 1.0000 - val_loss: 2.0025 - val_accuracy: 0.5467\n",
      "Epoch 38/50\n",
      "4/4 [==============================] - 0s 7ms/step - loss: 5.0839e-04 - accuracy: 1.0000 - val_loss: 2.0113 - val_accuracy: 0.5467\n",
      "Epoch 39/50\n",
      "4/4 [==============================] - 0s 7ms/step - loss: 4.8902e-04 - accuracy: 1.0000 - val_loss: 2.0199 - val_accuracy: 0.5467\n",
      "Epoch 40/50\n",
      "4/4 [==============================] - 0s 6ms/step - loss: 4.7048e-04 - accuracy: 1.0000 - val_loss: 2.0283 - val_accuracy: 0.5467\n",
      "Epoch 41/50\n",
      "4/4 [==============================] - 0s 8ms/step - loss: 4.5323e-04 - accuracy: 1.0000 - val_loss: 2.0367 - val_accuracy: 0.5467\n",
      "Epoch 42/50\n",
      "4/4 [==============================] - 0s 7ms/step - loss: 4.3645e-04 - accuracy: 1.0000 - val_loss: 2.0448 - val_accuracy: 0.5467\n",
      "Epoch 43/50\n",
      "4/4 [==============================] - 0s 8ms/step - loss: 4.2069e-04 - accuracy: 1.0000 - val_loss: 2.0529 - val_accuracy: 0.5467\n",
      "Epoch 44/50\n",
      "4/4 [==============================] - 0s 8ms/step - loss: 4.0560e-04 - accuracy: 1.0000 - val_loss: 2.0609 - val_accuracy: 0.5467\n",
      "Epoch 45/50\n",
      "4/4 [==============================] - 0s 6ms/step - loss: 3.9180e-04 - accuracy: 1.0000 - val_loss: 2.0687 - val_accuracy: 0.5467\n",
      "Epoch 46/50\n",
      "4/4 [==============================] - 0s 6ms/step - loss: 3.7860e-04 - accuracy: 1.0000 - val_loss: 2.0763 - val_accuracy: 0.5467\n",
      "Epoch 47/50\n",
      "4/4 [==============================] - 0s 6ms/step - loss: 3.6590e-04 - accuracy: 1.0000 - val_loss: 2.0839 - val_accuracy: 0.5467\n",
      "Epoch 48/50\n",
      "4/4 [==============================] - 0s 6ms/step - loss: 3.5393e-04 - accuracy: 1.0000 - val_loss: 2.0911 - val_accuracy: 0.5467\n",
      "Epoch 49/50\n",
      "4/4 [==============================] - 0s 6ms/step - loss: 3.4262e-04 - accuracy: 1.0000 - val_loss: 2.0983 - val_accuracy: 0.5467\n",
      "Epoch 50/50\n",
      "4/4 [==============================] - 0s 5ms/step - loss: 3.3125e-04 - accuracy: 1.0000 - val_loss: 2.1055 - val_accuracy: 0.5467\n"
     ]
    }
   ],
   "source": [
    "# Replace None as necessary\n",
    "\n",
    "# Fit the model to the training data, using a subset of the\n",
    "# training data as validation data\n",
    "dense_model_results = dense_model.fit(\n",
    "    x=X_train,\n",
    "    y=y_train,\n",
    "    batch_size=32,\n",
    "    epochs=50,\n",
    "    verbose=1,\n",
    "    validation_split=0.4,\n",
    "    shuffle=True\n",
    ")"
   ]
  },
  {
   "cell_type": "code",
   "execution_count": 18,
   "metadata": {
    "nbgrader": {
     "grade": false,
     "grade_id": "cell-0639b5c80e98ab40",
     "locked": true,
     "schema_version": 3,
     "solution": false,
     "task": false
    }
   },
   "outputs": [
    {
     "data": {
      "image/png": "[encoded data removed]",
      "text/plain": [
       "<Figure size 720x360 with 2 Axes>"
      ]
     },
     "metadata": {
      "needs_background": "light"
     },
     "output_type": "display_data"
    }
   ],
   "source": [
    "# Run this cell without changes\n",
    "\n",
    "def plot_loss_and_accuracy(results, final=False):\n",
    "    \n",
    "    if final:\n",
    "        val_label=\"test\"\n",
    "    else:\n",
    "        val_label=\"validation\"\n",
    "\n",
    "    # Extracting metrics from model fitting\n",
    "    train_loss = results.history['loss']\n",
    "    val_loss = results.history['val_loss']\n",
    "    train_accuracy = results.history['accuracy']\n",
    "    val_accuracy = results.history['val_accuracy']\n",
    "\n",
    "    # Setting up plots\n",
    "    fig, (ax1, ax2) = plt.subplots(1, 2, figsize=(10, 5))\n",
    "\n",
    "    # Plotting loss info\n",
    "    ax1.set_title(\"Loss\")\n",
    "    sns.lineplot(x=results.epoch, y=train_loss, ax=ax1, label=\"train\")\n",
    "    sns.lineplot(x=results.epoch, y=val_loss, ax=ax1, label=val_label)\n",
    "    ax1.legend()\n",
    "\n",
    "    # Plotting accuracy info\n",
    "    ax2.set_title(\"Accuracy\")\n",
    "    sns.lineplot(x=results.epoch, y=train_accuracy, ax=ax2, label=\"train\")\n",
    "    sns.lineplot(x=results.epoch, y=val_accuracy, ax=ax2, label=val_label)\n",
    "    ax2.legend()\n",
    "    \n",
    "plot_loss_and_accuracy(dense_model_results)"
   ]
  },
  {
   "cell_type": "markdown",
   "metadata": {
    "nbgrader": {
     "grade": false,
     "grade_id": "cell-3ee94fdb73f6a0bd",
     "locked": true,
     "schema_version": 3,
     "solution": false,
     "task": false
    }
   },
   "source": [
    "## 5) Modify the Code Below to Use Regularization\n",
    "\n",
    "\n",
    "The model appears to be overfitting. To deal with this overfitting, modify the code below to include regularization in the model. You can add L1, L2, both L1 and L2, or dropout regularization.\n",
    "\n",
    "Hint: these might be helpful\n",
    "\n",
    " - [`Dense` layer documentation](https://keras.io/api/layers/core_layers/dense/)\n",
    " - [`regularizers` documentation](https://keras.io/regularizers/)\n",
    " \n",
    "(`EarlyStopping` is a type of regularization that is not applicable to this problem framing, since it's a callback and not a layer.)"
   ]
  },
  {
   "cell_type": "code",
   "execution_count": 19,
   "metadata": {
    "ExecuteTime": {
     "end_time": "2020-11-04T16:48:46.721530Z",
     "start_time": "2020-11-04T16:48:46.715001Z"
    },
    "nbgrader": {
     "grade": false,
     "grade_id": "cell-143a65663b1d4c26",
     "locked": false,
     "schema_version": 3,
     "solution": true,
     "task": false
    }
   },
   "outputs": [
    {
     "name": "stdout",
     "output_type": "stream",
     "text": [
      "Model: \"regularized\"\n",
      "_________________________________________________________________\n",
      "Layer (type)                 Output Shape              Param #   \n",
      "=================================================================\n",
      "dense_8 (Dense)              (None, 64)                19264     \n",
      "_________________________________________________________________\n",
      "dense_9 (Dense)              (None, 64)                4160      \n",
      "_________________________________________________________________\n",
      "dense_10 (Dense)             (None, 64)                4160      \n",
      "_________________________________________________________________\n",
      "dense_11 (Dense)             (None, 1)                 65        \n",
      "=================================================================\n",
      "Total params: 27,649\n",
      "Trainable params: 27,649\n",
      "Non-trainable params: 0\n",
      "_________________________________________________________________\n"
     ]
    }
   ],
   "source": [
    "# Complete the following code\n",
    "\n",
    "def build_model_with_regularization(n_input, n_output, activation, loss):\n",
    "    \"\"\"\n",
    "    Creates and compiles a tf.keras Sequential model with two hidden layers\n",
    "    This time regularization has been added\n",
    "    \"\"\"\n",
    "    # create classifier\n",
    "    classifier = Sequential(name=\"regularized\")\n",
    "\n",
    "    # add input layer\n",
    "    classifier.add(Dense(units=64, input_shape=(n_input,), kernel_regularizer=regularizers.l2(0.01)))\n",
    "\n",
    "    # add hidden layers\n",
    "    classifier.add(Dense(units=64, kernel_regularizer=regularizers.l2(0.01)))\n",
    "    classifier.add(Dense(units=64, kernel_regularizer=regularizers.l2(0.01)))\n",
    "\n",
    "    # add output layer\n",
    "    classifier.add(Dense(units=n_output, activation=activation))\n",
    "\n",
    "    classifier.compile(optimizer='adam', loss=loss, metrics=['accuracy'])\n",
    "    return classifier\n",
    "\n",
    "model_with_regularization = build_model_with_regularization(\n",
    "    num_input_nodes, num_output_nodes, activation_function, loss\n",
    ")\n",
    "model_with_regularization.summary()"
   ]
  },
  {
   "cell_type": "code",
   "execution_count": 20,
   "metadata": {
    "ExecuteTime": {
     "end_time": "2020-11-04T16:48:47.310049Z",
     "start_time": "2020-11-04T16:48:47.265185Z"
    },
    "code_folding": [],
    "nbgrader": {
     "grade": true,
     "grade_id": "cell-45429cad9bc0ca12",
     "locked": true,
     "points": 1,
     "schema_version": 3,
     "solution": false,
     "task": false
    }
   },
   "outputs": [
    {
     "data": {
      "text/plain": [
       "1.0"
      ]
     },
     "execution_count": 20,
     "metadata": {},
     "output_type": "execute_result"
    }
   ],
   "source": [
    "# Run the code below without change\n",
    "\n",
    "# Testing function to build model\n",
    "assert type(model_with_regularization) == Sequential\n",
    "\n",
    "def check_regularization(model):\n",
    "    regularization_count = 0\n",
    "    for layer in model.get_config()['layers']:\n",
    "        \n",
    "        # Checking if kernel regularizer was specified\n",
    "        if 'kernel_regularizer' in layer['config']:\n",
    "            if layer['config'].get('kernel_regularizer'):\n",
    "                regularization_count += 1\n",
    "                \n",
    "        # Checking if layer is dropout layer\n",
    "        if layer[\"class_name\"] == \"Dropout\":\n",
    "            regularization_count += 1\n",
    "            \n",
    "    return regularization_count > 0\n",
    "    \n",
    "score = .3\n",
    "\n",
    "if check_regularization(model_with_regularization):\n",
    "    score += .7\n",
    "    \n",
    "score"
   ]
  },
  {
   "cell_type": "markdown",
   "metadata": {
    "nbgrader": {
     "grade": false,
     "grade_id": "cell-b13c2342c3515ca5",
     "locked": true,
     "schema_version": 3,
     "solution": false,
     "task": false
    }
   },
   "source": [
    "Now we'll evaluate the new model on the training set as well:"
   ]
  },
  {
   "cell_type": "code",
   "execution_count": 21,
   "metadata": {
    "nbgrader": {
     "grade": false,
     "grade_id": "cell-87e75ce032ca5468",
     "locked": true,
     "schema_version": 3,
     "solution": false,
     "task": false
    }
   },
   "outputs": [
    {
     "data": {
      "image/png": "[encoded data removed]",
      "text/plain": [
       "<Figure size 720x360 with 2 Axes>"
      ]
     },
     "metadata": {
      "needs_background": "light"
     },
     "output_type": "display_data"
    }
   ],
   "source": [
    "# Run this cell without changes\n",
    "\n",
    "# Fit the model to the training data, using a subset of the\n",
    "# training data as validation data\n",
    "reg_model_results = model_with_regularization.fit(\n",
    "    x=X_train,\n",
    "    y=y_train,\n",
    "    batch_size=None,\n",
    "    epochs=20,\n",
    "    verbose=0,\n",
    "    validation_split=0.4,\n",
    "    shuffle=False\n",
    ")\n",
    "\n",
    "plot_loss_and_accuracy(reg_model_results)"
   ]
  },
  {
   "cell_type": "markdown",
   "metadata": {
    "nbgrader": {
     "grade": false,
     "grade_id": "cell-cdcc2db42e9c92a2",
     "locked": true,
     "schema_version": 3,
     "solution": false,
     "task": false
    }
   },
   "source": [
    "(Whether or not your regularization made a difference will partially depend on how strong of regularization you applied, as well as some random elements of your current TensorFlow configuration.)\n",
    "\n",
    "Now we evaluate both models on the holdout set:"
   ]
  },
  {
   "cell_type": "code",
   "execution_count": 22,
   "metadata": {},
   "outputs": [
    {
     "data": {
      "image/png": "[encoded data removed]",
      "text/plain": [
       "<Figure size 720x360 with 2 Axes>"
      ]
     },
     "metadata": {
      "needs_background": "light"
     },
     "output_type": "display_data"
    }
   ],
   "source": [
    "# Run this cell without changes\n",
    "\n",
    "final_dense_model_results = dense_model.fit(\n",
    "    x=X_train,\n",
    "    y=y_train,\n",
    "    batch_size=None,\n",
    "    epochs=20,\n",
    "    verbose=0,\n",
    "    validation_data=(X_test, y_test),\n",
    "    shuffle=False\n",
    ")\n",
    "\n",
    "plot_loss_and_accuracy(final_dense_model_results, final=True)"
   ]
  },
  {
   "cell_type": "markdown",
   "metadata": {},
   "source": [
    "Plot the loss and accuracy your final regularized model."
   ]
  },
  {
   "cell_type": "code",
   "execution_count": 24,
   "metadata": {},
   "outputs": [
    {
     "name": "stdout",
     "output_type": "stream",
     "text": [
      "Epoch 1/50\n",
      "6/6 [==============================] - 0s 14ms/step - loss: 1.9715 - accuracy: 0.8342 - val_loss: 2.4571 - val_accuracy: 0.5873\n",
      "Epoch 2/50\n",
      "6/6 [==============================] - 0s 5ms/step - loss: 1.6162 - accuracy: 0.9251 - val_loss: 2.2725 - val_accuracy: 0.6032\n",
      "Epoch 3/50\n",
      "6/6 [==============================] - 0s 4ms/step - loss: 1.4756 - accuracy: 0.9786 - val_loss: 2.2112 - val_accuracy: 0.6667\n",
      "Epoch 4/50\n",
      "6/6 [==============================] - 0s 5ms/step - loss: 1.3960 - accuracy: 0.9947 - val_loss: 2.1878 - val_accuracy: 0.6984\n",
      "Epoch 5/50\n",
      "6/6 [==============================] - 0s 5ms/step - loss: 1.3310 - accuracy: 1.0000 - val_loss: 2.1923 - val_accuracy: 0.7302\n",
      "Epoch 6/50\n",
      "6/6 [==============================] - 0s 5ms/step - loss: 1.2722 - accuracy: 1.0000 - val_loss: 2.2097 - val_accuracy: 0.6984\n",
      "Epoch 7/50\n",
      "6/6 [==============================] - 0s 5ms/step - loss: 1.2218 - accuracy: 1.0000 - val_loss: 2.2185 - val_accuracy: 0.6984\n",
      "Epoch 8/50\n",
      "6/6 [==============================] - 0s 5ms/step - loss: 1.1769 - accuracy: 1.0000 - val_loss: 2.2161 - val_accuracy: 0.6984\n",
      "Epoch 9/50\n",
      "6/6 [==============================] - 0s 5ms/step - loss: 1.1341 - accuracy: 1.0000 - val_loss: 2.2030 - val_accuracy: 0.7143\n",
      "Epoch 10/50\n",
      "6/6 [==============================] - 0s 5ms/step - loss: 1.0934 - accuracy: 1.0000 - val_loss: 2.1801 - val_accuracy: 0.6825\n",
      "Epoch 11/50\n",
      "6/6 [==============================] - 0s 7ms/step - loss: 1.0540 - accuracy: 1.0000 - val_loss: 2.1435 - val_accuracy: 0.6825\n",
      "Epoch 12/50\n",
      "6/6 [==============================] - 0s 4ms/step - loss: 1.0159 - accuracy: 1.0000 - val_loss: 2.1039 - val_accuracy: 0.6825\n",
      "Epoch 13/50\n",
      "6/6 [==============================] - 0s 5ms/step - loss: 0.9790 - accuracy: 1.0000 - val_loss: 2.0600 - val_accuracy: 0.6825\n",
      "Epoch 14/50\n",
      "6/6 [==============================] - 0s 5ms/step - loss: 0.9433 - accuracy: 1.0000 - val_loss: 2.0151 - val_accuracy: 0.6825\n",
      "Epoch 15/50\n",
      "6/6 [==============================] - 0s 6ms/step - loss: 0.9087 - accuracy: 1.0000 - val_loss: 1.9683 - val_accuracy: 0.6825\n",
      "Epoch 16/50\n",
      "6/6 [==============================] - 0s 5ms/step - loss: 0.8753 - accuracy: 1.0000 - val_loss: 1.9239 - val_accuracy: 0.6825\n",
      "Epoch 17/50\n",
      "6/6 [==============================] - 0s 6ms/step - loss: 0.8429 - accuracy: 1.0000 - val_loss: 1.8821 - val_accuracy: 0.6825\n",
      "Epoch 18/50\n",
      "6/6 [==============================] - 0s 5ms/step - loss: 0.8117 - accuracy: 1.0000 - val_loss: 1.8400 - val_accuracy: 0.6825\n",
      "Epoch 19/50\n",
      "6/6 [==============================] - 0s 5ms/step - loss: 0.7816 - accuracy: 1.0000 - val_loss: 1.8016 - val_accuracy: 0.6825\n",
      "Epoch 20/50\n",
      "6/6 [==============================] - 0s 5ms/step - loss: 0.7524 - accuracy: 1.0000 - val_loss: 1.7661 - val_accuracy: 0.6984\n",
      "Epoch 21/50\n",
      "6/6 [==============================] - 0s 5ms/step - loss: 0.7244 - accuracy: 1.0000 - val_loss: 1.7317 - val_accuracy: 0.6984\n",
      "Epoch 22/50\n",
      "6/6 [==============================] - 0s 5ms/step - loss: 0.6973 - accuracy: 1.0000 - val_loss: 1.6971 - val_accuracy: 0.6984\n",
      "Epoch 23/50\n",
      "6/6 [==============================] - 0s 5ms/step - loss: 0.6711 - accuracy: 1.0000 - val_loss: 1.6634 - val_accuracy: 0.6984\n",
      "Epoch 24/50\n",
      "6/6 [==============================] - 0s 5ms/step - loss: 0.6460 - accuracy: 1.0000 - val_loss: 1.6357 - val_accuracy: 0.6984\n",
      "Epoch 25/50\n",
      "6/6 [==============================] - 0s 5ms/step - loss: 0.6218 - accuracy: 1.0000 - val_loss: 1.6068 - val_accuracy: 0.6984\n",
      "Epoch 26/50\n",
      "6/6 [==============================] - 0s 5ms/step - loss: 0.5984 - accuracy: 1.0000 - val_loss: 1.5790 - val_accuracy: 0.6984\n",
      "Epoch 27/50\n",
      "6/6 [==============================] - 0s 7ms/step - loss: 0.5760 - accuracy: 1.0000 - val_loss: 1.5510 - val_accuracy: 0.6984\n",
      "Epoch 28/50\n",
      "6/6 [==============================] - 0s 6ms/step - loss: 0.5544 - accuracy: 1.0000 - val_loss: 1.5230 - val_accuracy: 0.6984\n",
      "Epoch 29/50\n",
      "6/6 [==============================] - 0s 6ms/step - loss: 0.5335 - accuracy: 1.0000 - val_loss: 1.4973 - val_accuracy: 0.6984\n",
      "Epoch 30/50\n",
      "6/6 [==============================] - 0s 6ms/step - loss: 0.5136 - accuracy: 1.0000 - val_loss: 1.4751 - val_accuracy: 0.6984\n",
      "Epoch 31/50\n",
      "6/6 [==============================] - 0s 5ms/step - loss: 0.4943 - accuracy: 1.0000 - val_loss: 1.4513 - val_accuracy: 0.6984\n",
      "Epoch 32/50\n",
      "6/6 [==============================] - 0s 5ms/step - loss: 0.4759 - accuracy: 1.0000 - val_loss: 1.4281 - val_accuracy: 0.6984\n",
      "Epoch 33/50\n",
      "6/6 [==============================] - 0s 4ms/step - loss: 0.4581 - accuracy: 1.0000 - val_loss: 1.4060 - val_accuracy: 0.6984\n",
      "Epoch 34/50\n",
      "6/6 [==============================] - 0s 5ms/step - loss: 0.4411 - accuracy: 1.0000 - val_loss: 1.3873 - val_accuracy: 0.6984\n",
      "Epoch 35/50\n",
      "6/6 [==============================] - 0s 4ms/step - loss: 0.4247 - accuracy: 1.0000 - val_loss: 1.3664 - val_accuracy: 0.6984\n",
      "Epoch 36/50\n",
      "6/6 [==============================] - 0s 4ms/step - loss: 0.4090 - accuracy: 1.0000 - val_loss: 1.3459 - val_accuracy: 0.6984\n",
      "Epoch 37/50\n",
      "6/6 [==============================] - 0s 4ms/step - loss: 0.3939 - accuracy: 1.0000 - val_loss: 1.3279 - val_accuracy: 0.6984\n",
      "Epoch 38/50\n",
      "6/6 [==============================] - 0s 5ms/step - loss: 0.3794 - accuracy: 1.0000 - val_loss: 1.3106 - val_accuracy: 0.6984\n",
      "Epoch 39/50\n",
      "6/6 [==============================] - 0s 4ms/step - loss: 0.3655 - accuracy: 1.0000 - val_loss: 1.2946 - val_accuracy: 0.6984\n",
      "Epoch 40/50\n",
      "6/6 [==============================] - 0s 4ms/step - loss: 0.3522 - accuracy: 1.0000 - val_loss: 1.2739 - val_accuracy: 0.6984\n",
      "Epoch 41/50\n",
      "6/6 [==============================] - 0s 4ms/step - loss: 0.3394 - accuracy: 1.0000 - val_loss: 1.2588 - val_accuracy: 0.6984\n",
      "Epoch 42/50\n",
      "6/6 [==============================] - 0s 4ms/step - loss: 0.3272 - accuracy: 1.0000 - val_loss: 1.2409 - val_accuracy: 0.6984\n",
      "Epoch 43/50\n",
      "6/6 [==============================] - 0s 5ms/step - loss: 0.3154 - accuracy: 1.0000 - val_loss: 1.2270 - val_accuracy: 0.6984\n",
      "Epoch 44/50\n",
      "6/6 [==============================] - 0s 4ms/step - loss: 0.3041 - accuracy: 1.0000 - val_loss: 1.2144 - val_accuracy: 0.6984\n",
      "Epoch 45/50\n",
      "6/6 [==============================] - 0s 4ms/step - loss: 0.2933 - accuracy: 1.0000 - val_loss: 1.2007 - val_accuracy: 0.6984\n",
      "Epoch 46/50\n",
      "6/6 [==============================] - 0s 4ms/step - loss: 0.2830 - accuracy: 1.0000 - val_loss: 1.1899 - val_accuracy: 0.6984\n",
      "Epoch 47/50\n",
      "6/6 [==============================] - 0s 4ms/step - loss: 0.2731 - accuracy: 1.0000 - val_loss: 1.1782 - val_accuracy: 0.6984\n",
      "Epoch 48/50\n",
      "6/6 [==============================] - 0s 5ms/step - loss: 0.2635 - accuracy: 1.0000 - val_loss: 1.1632 - val_accuracy: 0.6984\n",
      "Epoch 49/50\n",
      "6/6 [==============================] - 0s 4ms/step - loss: 0.2544 - accuracy: 1.0000 - val_loss: 1.1548 - val_accuracy: 0.6984\n",
      "Epoch 50/50\n",
      "6/6 [==============================] - 0s 5ms/step - loss: 0.2457 - accuracy: 1.0000 - val_loss: 1.1430 - val_accuracy: 0.6984\n"
     ]
    },
    {
     "data": {
      "image/png": "[encoded data removed]",
      "text/plain": [
       "<Figure size 720x360 with 2 Axes>"
      ]
     },
     "metadata": {
      "needs_background": "light"
     },
     "output_type": "display_data"
    }
   ],
   "source": [
    "# Replace None, as necessary\n",
    "\n",
    "final_reg_model_results = model_with_regularization.fit(\n",
    "    x=X_train,\n",
    "    y=y_train,\n",
    "    batch_size=32,\n",
    "    epochs=50,\n",
    "    verbose=1,\n",
    "    validation_data=(X_test, y_test),\n",
    "    shuffle=True\n",
    ")\n",
    "\n",
    "plot_loss_and_accuracy(final_reg_model_results, final=True)"
   ]
  },
  {
   "cell_type": "code",
   "execution_count": null,
   "metadata": {},
   "outputs": [],
   "source": []
  }
 ],
 "metadata": {
  "celltoolbar": "Create Assignment",
  "kernelspec": {
   "display_name": "Python (learn-env)",
   "language": "python",
   "name": "learn-env"
  },
  "language_info": {
   "codemirror_mode": {
    "name": "ipython",
    "version": 3
   },
   "file_extension": ".py",
   "mimetype": "text/x-python",
   "name": "python",
   "nbconvert_exporter": "python",
   "pygments_lexer": "ipython3",
   "version": "3.8.5"
  },
  "toc": {
   "base_numbering": 1,
   "nav_menu": {},
   "number_sections": false,
   "sideBar": true,
   "skip_h1_title": true,
   "title_cell": "Table of Contents",
   "title_sidebar": "Contents",
   "toc_cell": false,
   "toc_position": {},
   "toc_section_display": true,
   "toc_window_display": false
  },
  "varInspector": {
   "cols": {
    "lenName": 16,
    "lenType": 16,
    "lenVar": 40
   },
   "kernels_config": {
    "python": {
     "delete_cmd_postfix": "",
     "delete_cmd_prefix": "del ",
     "library": "var_list.py",
     "varRefreshCmd": "print(var_dic_list())"
    },
    "r": {
     "delete_cmd_postfix": ") ",
     "delete_cmd_prefix": "rm(",
     "library": "var_list.r",
     "varRefreshCmd": "cat(var_dic_list()) "
    }
   },
   "types_to_exclude": [
    "module",
    "function",
    "builtin_function_or_method",
    "instance",
    "_Feature"
   ],
   "window_display": false
  }
 },
 "nbformat": 4,
 "nbformat_minor": 4
}
