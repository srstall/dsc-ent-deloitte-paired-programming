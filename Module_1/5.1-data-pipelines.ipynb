{
 "cells": [
  {
   "cell_type": "markdown",
   "metadata": {},
   "source": [
    "### Objectives\n",
    "- To create a mock pipeline based on the business model that students choose\n",
    "\n",
    "### Introduction\n",
    "\n",
    "Based on the previous readings, we will simulate how we can best determine\n",
    "- The state of the current system (legacy)\n",
    "- Whether we should migrate the system to cloud\n",
    "- (Optional) Designing the architecture of the cloud system\n"
   ]
  },
  {
   "cell_type": "markdown",
   "metadata": {},
   "source": [
    "### Problem Statement\n",
    "Suppose you're a decision maker in the engineering team at an eCommerce company which currently generates millions of dollars in net revenue. You have a legacy system that sits on company's data centers in remote locations, away from the headquarter where your office is. The engineering team and the data analytics team have made the decision that they would like to build a search engine, recommendation engine, and few other engines that require heavy machine learning models to increase the revenue for the company. As a decision maker, you need to assess the current system, and the engineering requirement for the future fiscal years. So you decide to answer some questions and prepare answers for the next leadership meeting.\n",
    "\n",
    "\n",
    "Currently, the capability of the data center is limited based on the square footage of the location, as well as the hardware that can be stored in the square footage. The data center resource is not only shared in the engineering team, but also within the supply chain team, logistics, HR's IT platform, and also with some other internal operations, like marketing, leadership, and also analytics team. The data centers have maxed out in terms of the hardware that they can support, and may be in need of expanding and opening up another data center."
   ]
  },
  {
   "cell_type": "markdown",
   "metadata": {},
   "source": [
    "#### Assumptions when solving this problem\n",
    "\n",
    "- The problem statement merely states the current business problem you're facing. The design of the hypothetical data center, like square footage, hardware capabilities, human resources are all something you can create! The limitation is one thing to keep in mind, that in any data center(s), you have ran out of spaces to add more hardware.\n",
    "- You can assume based on the revenue the company is making how much data is being generated per day.\n",
    "- Be creative! If you're using third party data, i.e. Adobe Target for audience targeting, how are we receiving that data? Will that data sit on our data center and will it take up the resources? These are free constraints that you can create, but be realistic."
   ]
  },
  {
   "cell_type": "markdown",
   "metadata": {},
   "source": [
    "1. What is the current cost of maintaining the remote data center location?"
   ]
  },
  {
   "cell_type": "code",
   "execution_count": 4,
   "metadata": {},
   "outputs": [],
   "source": [
    "# your solution\n",
    "\n",
    "# the cost isn't necessarily a dollar amount other than rent, land, building etc.\n",
    "# they are basically maxed out and can't take on any new data which is essentially a data storage problem"
   ]
  },
  {
   "cell_type": "markdown",
   "metadata": {},
   "source": [
    "2. What are the new business requirements from your engineering team? "
   ]
  },
  {
   "cell_type": "code",
   "execution_count": 5,
   "metadata": {},
   "outputs": [],
   "source": [
    "# your solution, but be creative! It doesn't have to limit to the requirement from the problem statement\n",
    "\n",
    "# if i'm going to migrate to something new i would want all the people who curently access it to be able to access the \n",
    "# new data\n",
    "# we would also want a new situation that can scale efficiently so if we need more space there aren't crazy costs associated \n",
    "# with it"
   ]
  },
  {
   "cell_type": "markdown",
   "metadata": {},
   "source": [
    "3. Based on the new business requirements, you decide that you need to start migrating (at least) your resources to the cloud system. What are some things that you may need to look into when considering migrating your legacy system to cloud?"
   ]
  },
  {
   "cell_type": "code",
   "execution_count": 6,
   "metadata": {},
   "outputs": [],
   "source": [
    "# your solution\n",
    "\n",
    "# it's important to know if our legacy system is able to extract all of the data out of it\n",
    "# between shallow and deep cloud integration we think that shallow would be more efficient if we are able to extract all of\n",
    "# our existing data out of the current system\n",
    "# we may need to consider security as well if there is any data that exists locally that shouldn't be on the cloud\n",
    "# we also may need to consider if we need to hire any new engineers"
   ]
  },
  {
   "cell_type": "markdown",
   "metadata": {},
   "source": [
    "4. In the end, you'll need to persuade leadership why you need to migrate a system to another place, i.e. cloud, when in the eyes of leadership, everything is working fine. Write out cons/pros based on the shared categories, like cost, human resources, etc."
   ]
  },
  {
   "cell_type": "code",
   "execution_count": 7,
   "metadata": {},
   "outputs": [],
   "source": [
    "# your solution\n",
    "\n",
    "# pros:\n",
    "# -scalability : it's a one time migration as new resources are needed it is easy to add them\n",
    "# -reducing cost because we won't have to have any engineers on site running the hardware since it's all remote, this also\n",
    "#  saves electricity\n",
    "# -the hardware stay modern and you don't have to worry about constantly updating the hardware\n",
    "\n",
    "# cons: \n",
    "# -integration may be complex IF systems are not compatible for shallow migration and we would have to rebuild if we need to\n",
    "#  use deep cloud integration, this could also raise costs\n",
    "# -vendor locking, for example once you are locked into aws you are limited to using their products, it would be useful to\n",
    "#  do extensive research to pick the right vendor\n",
    "# -there can be potential data leakages if security is not properly set up"
   ]
  },
  {
   "cell_type": "markdown",
   "metadata": {},
   "source": [
    "(OPTIONAL) This may require an engineering/software background. You have the same hypothetical machine learning architecture, but one on the legacy system and one on the cloud. Moving away from the business logic, what is the benefit on the engineering stack if we use the cloud? What can be problematic if we use the cloud?"
   ]
  },
  {
   "cell_type": "code",
   "execution_count": 8,
   "metadata": {},
   "outputs": [],
   "source": [
    "# your solution, attach a screenshot of a hypothetical architecture at a high level\n",
    "\n",
    "# security - if you have something running locally you can control all your data policies\n",
    "# a positive is scalabily - as models get bigger you have the compute power to make that possible\n",
    "# on the cloud they have model libraries so there is availability of pre trained models"
   ]
  },
  {
   "cell_type": "code",
   "execution_count": null,
   "metadata": {},
   "outputs": [],
   "source": []
  }
 ],
 "metadata": {
  "kernelspec": {
   "display_name": "Python 3",
   "language": "python",
   "name": "python3"
  },
  "language_info": {
   "codemirror_mode": {
    "name": "ipython",
    "version": 3
   },
   "file_extension": ".py",
   "mimetype": "text/x-python",
   "name": "python",
   "nbconvert_exporter": "python",
   "pygments_lexer": "ipython3",
   "version": "3.8.5"
  }
 },
 "nbformat": 4,
 "nbformat_minor": 5
}
